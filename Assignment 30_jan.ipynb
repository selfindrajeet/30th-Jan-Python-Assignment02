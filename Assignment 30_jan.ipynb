{
 "cells": [
  {
   "cell_type": "markdown",
   "id": "d6778a78-0288-4008-ac11-6700dd15f234",
   "metadata": {},
   "source": [
    "# 30th Jan Python Assignment"
   ]
  },
  {
   "cell_type": "markdown",
   "id": "78279525-fe32-4904-9039-c51e44f2a160",
   "metadata": {},
   "source": [
    "Q1       Write a program to accept percentage from the user and display the grade according to the following criteria:\n",
    "      \n",
    "      Marks               Grade\n",
    "       >90                  A\n",
    "       >80and<=90           B\n",
    "       >=60and<=80          C\n",
    "       Below 60             D"
   ]
  },
  {
   "cell_type": "code",
   "execution_count": 6,
   "id": "f026a02f-9e59-4f23-bb11-4a09d4e34940",
   "metadata": {},
   "outputs": [
    {
     "name": "stdin",
     "output_type": "stream",
     "text": [
      "Enter Your marks percentage of Student 99\n"
     ]
    },
    {
     "name": "stdout",
     "output_type": "stream",
     "text": [
      "Grade 'A'\n"
     ]
    }
   ],
   "source": [
    "        # Solution:-\n",
    "marks_percentage = int(input(\"Enter Your marks percentage of Student\"))\n",
    "if (marks_percentage >90):\n",
    "    print(\"Grade 'A'\")\n",
    "elif (marks_percentage >80 and marks_percentage <=90):\n",
    "    print(\"Grade 'B'\")\n",
    "elif (marks_percentage >=60 and marks_percentage <=80):\n",
    "    print(\"Grade 'C'\")\n",
    "else:\n",
    "    print(\"Grade 'D'\")"
   ]
  },
  {
   "cell_type": "code",
   "execution_count": null,
   "id": "04b1d1be-f76f-4d82-aab6-220716b4f139",
   "metadata": {},
   "outputs": [],
   "source": []
  },
  {
   "cell_type": "markdown",
   "id": "b6592758-7b69-4b22-a935-784f75998f58",
   "metadata": {},
   "source": [
    "Q2    Write a program to accept the cost price of a bike and display the road tax to be paid according to the\n",
    "following criteria:   \n",
    "                \n",
    "                TAX                     COST PRICE(in Rs\\-)\n",
    "                15%                          >100000\n",
    "                10%                        >50000 and <=100000\n",
    "                5%                         <=50000"
   ]
  },
  {
   "cell_type": "code",
   "execution_count": 11,
   "id": "62c38e21-ca3c-44eb-87b5-01536db2b077",
   "metadata": {},
   "outputs": [
    {
     "name": "stdin",
     "output_type": "stream",
     "text": [
      "Please Enter the cost Price of bike 400000\n"
     ]
    },
    {
     "name": "stdout",
     "output_type": "stream",
     "text": [
      "Road Tax 15%\n"
     ]
    }
   ],
   "source": [
    "# Solution \n",
    "\n",
    "Cost_price = int(input(\"Please Enter the cost Price of bike\"))\n",
    "if (Cost_price >100000) :\n",
    "    print(\"Road Tax 15%\")\n",
    "elif (Cost_price >50000 and Cost_price <=100000) :\n",
    "    print(\"Road Tax 10%\")\n",
    "elif (Cost_price <=50000) :\n",
    "    print(\"Road Tax 5%\")"
   ]
  },
  {
   "cell_type": "code",
   "execution_count": null,
   "id": "8b372726-1fd1-439d-a79f-fc8f1ed70445",
   "metadata": {},
   "outputs": [],
   "source": []
  },
  {
   "cell_type": "markdown",
   "id": "bf3a9391-75c4-422e-a312-d0ced5363672",
   "metadata": {},
   "source": [
    "3. Accept any city from the user and display monuments of that city."
   ]
  },
  {
   "cell_type": "markdown",
   "id": "0525e111-e33d-4296-bf4a-894141e435bd",
   "metadata": {},
   "source": [
    "    city                           monument \n",
    "    \n",
    "    Delhi                          Red Fort\n",
    "    Agra                           Taj Mahal \n",
    "    Jaipur                         Jal mahal\n",
    "    "
   ]
  },
  {
   "cell_type": "code",
   "execution_count": 8,
   "id": "477bb168-c90f-4971-937b-b7047bb85f49",
   "metadata": {},
   "outputs": [
    {
     "name": "stdin",
     "output_type": "stream",
     "text": [
      "Enter Your City Name \n",
      " Available City name 'Delhi' , 'Agra' , 'Jaipur '\n",
      "  delhi\n"
     ]
    },
    {
     "name": "stdout",
     "output_type": "stream",
     "text": [
      "Red Fort\n"
     ]
    }
   ],
   "source": [
    "# Coading\n",
    "\n",
    "City = str(input(\"Enter Your City Name \\n Available City name 'Delhi' , 'Agra' , 'Jaipur '\\n \" ))\n",
    "if City == \"Delhi\" or City == \"delhi\" :\n",
    "    print(\"Red Fort\")\n",
    "elif City == \"Agra\" or City == \"agra\" :\n",
    "    print(\"Taj Mahal\") \n",
    "elif City == \"Jaipur\" or City == \"jaipur\" :\n",
    "    print(\"Jal mahal\") \n",
    "else :\n",
    "    print(\"city details in not avilable\")\n",
    "    \n",
    "    "
   ]
  },
  {
   "cell_type": "code",
   "execution_count": null,
   "id": "5d5a2122-f2e9-4d9e-979c-da7a884eb151",
   "metadata": {},
   "outputs": [],
   "source": []
  },
  {
   "cell_type": "markdown",
   "id": "bb6e7f26-8b1d-47ac-80e8-2ed8633b7615",
   "metadata": {},
   "source": [
    "4. Check how many times a given number can be divided by 3 before it is less than or equal to 10."
   ]
  },
  {
   "cell_type": "code",
   "execution_count": 12,
   "id": "116a6e75-04a7-4dee-8d11-cd7c881cde89",
   "metadata": {},
   "outputs": [
    {
     "name": "stdin",
     "output_type": "stream",
     "text": [
      "Putting your number to check divided by 3 \n",
      " 30\n"
     ]
    },
    {
     "name": "stdout",
     "output_type": "stream",
     "text": [
      "1\n"
     ]
    }
   ],
   "source": [
    "x = int(input(\"Putting your number to check divided by 3 \\n\" ))\n",
    "\n",
    "cout = 0\n",
    "\n",
    "while x > 10 :\n",
    "        x = x/3\n",
    "        cout +=1\n",
    "print(cout)\n",
    "    \n",
    "    "
   ]
  },
  {
   "cell_type": "code",
   "execution_count": null,
   "id": "5870bfc6-c241-442d-ad45-bc54f74e9cf8",
   "metadata": {},
   "outputs": [],
   "source": []
  },
  {
   "cell_type": "markdown",
   "id": "c9669d60-41e9-47f3-bc18-b5a1b36564b2",
   "metadata": {},
   "source": [
    "5. Why and When to Use while Loop in Python give a detailed description with example"
   ]
  },
  {
   "cell_type": "code",
   "execution_count": null,
   "id": "159d0a2b-17f7-4059-b3cd-4603bbae3954",
   "metadata": {},
   "outputs": [],
   "source": [
    "A while loop in Python is used to execute a block of statements \n",
    "repeatedly until a given condition is satisfied.\n",
    "It is different from a for loop, which iterates through a collection or iterable object. \n",
    "A while loop in Python is useful when you don’t know the number of iterations in advance or when you need to loop until some condition changes.\n",
    "\n",
    "You should use a while loop in Python when you don’t know the number of iterations\n",
    "before hand or when you need to loop until some condition changes.\n",
    "A while loop evaluates a condition before each iteration and executes the loop body as long as the condition is true.\n",
    "\n",
    "-----Example--------\n",
    "number = int(input(\"Enter your Number\"))\n",
    "factorial = 1\n",
    "while number > 0 :\n",
    "    factorial = factorial*number\n",
    "    number = number - 1 \n",
    "factorial\n"
   ]
  },
  {
   "cell_type": "code",
   "execution_count": null,
   "id": "98a514b5-f249-4560-9fac-018ec750cadf",
   "metadata": {},
   "outputs": [],
   "source": []
  },
  {
   "cell_type": "markdown",
   "id": "a8929bad-ad07-4434-a4d9-698f66202673",
   "metadata": {},
   "source": [
    "    6.Use nested while loop to print 3 different pattern."
   ]
  },
  {
   "cell_type": "code",
   "execution_count": null,
   "id": "d996b44d-64d1-40ad-98e9-98d1441df372",
   "metadata": {},
   "outputs": [],
   "source": [
    "solution ---\n",
    "Example - 1 \n",
    "\n",
    "i = 1\n",
    "while i <= 5:\n",
    "    j = 1\n",
    "    while j <= i:\n",
    "        print(\"*\", end=\"\")\n",
    "        j += 1\n",
    "    print(\"\")\n",
    "    i += 1\n",
    "\n",
    "Example -2 \n",
    "\n",
    "i = 5\n",
    "while i >= 1:\n",
    "    j = 1\n",
    "    while j <= i:\n",
    "        print(\"*\", end=\"\")\n",
    "        j += 1\n",
    "    print()\n",
    "    i -= 1\n",
    "    \n",
    "Example - 3\n",
    "\n",
    "i = 1\n",
    "while i <= 5:\n",
    "    j = 1\n",
    "    while j <= 5:\n",
    "        if i == 1 or i == 5 or j == 1 or j == 5:\n",
    "            print(\"*\", end=\"\")\n",
    "        else:\n",
    "            print(\" \", end=\"\")\n",
    "        j += 1\n",
    "    print(\"\")\n",
    "    i += 1\n"
   ]
  },
  {
   "cell_type": "code",
   "execution_count": null,
   "id": "80fffa7e-e4f5-4c7f-a4a8-4b0a03aa0eb4",
   "metadata": {},
   "outputs": [],
   "source": []
  },
  {
   "cell_type": "markdown",
   "id": "51653eab-21bd-4d79-b8a2-1e6bfb52390f",
   "metadata": {},
   "source": [
    "    7. Reversea while loop to display numbers from 10 to 1. python"
   ]
  },
  {
   "cell_type": "code",
   "execution_count": 1,
   "id": "db9cf0c6-eb20-4f83-8a23-0ea9dc42612d",
   "metadata": {},
   "outputs": [
    {
     "name": "stdout",
     "output_type": "stream",
     "text": [
      "10\n",
      "9\n",
      "8\n",
      "7\n",
      "6\n",
      "5\n",
      "4\n",
      "3\n",
      "2\n",
      "1\n"
     ]
    }
   ],
   "source": [
    "num = 10\n",
    "while num >0:\n",
    "    print(num)\n",
    "    num=num-1"
   ]
  },
  {
   "cell_type": "code",
   "execution_count": null,
   "id": "03154358-025e-4796-8641-1e4d5df48add",
   "metadata": {},
   "outputs": [],
   "source": [
    "7. Reversea while loop to display numbers from 1 to 10. python"
   ]
  },
  {
   "cell_type": "code",
   "execution_count": 3,
   "id": "2a673afb-b129-4dc2-b086-95f56fc812f9",
   "metadata": {},
   "outputs": [
    {
     "name": "stdout",
     "output_type": "stream",
     "text": [
      "1\n",
      "2\n",
      "3\n",
      "4\n",
      "5\n",
      "6\n",
      "7\n",
      "8\n",
      "9\n",
      "10\n"
     ]
    }
   ],
   "source": [
    "num = 1\n",
    "while num <=10:\n",
    "    print(num)\n",
    "    num=num+1"
   ]
  },
  {
   "cell_type": "code",
   "execution_count": null,
   "id": "0cc3b9d6-e77b-4d21-98d1-436e6af26b27",
   "metadata": {},
   "outputs": [],
   "source": []
  }
 ],
 "metadata": {
  "kernelspec": {
   "display_name": "Python 3 (ipykernel)",
   "language": "python",
   "name": "python3"
  },
  "language_info": {
   "codemirror_mode": {
    "name": "ipython",
    "version": 3
   },
   "file_extension": ".py",
   "mimetype": "text/x-python",
   "name": "python",
   "nbconvert_exporter": "python",
   "pygments_lexer": "ipython3",
   "version": "3.10.8"
  }
 },
 "nbformat": 4,
 "nbformat_minor": 5
}
